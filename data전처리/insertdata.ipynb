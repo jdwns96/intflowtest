{
 "metadata": {
  "language_info": {
   "codemirror_mode": {
    "name": "ipython",
    "version": 3
   },
   "file_extension": ".py",
   "mimetype": "text/x-python",
   "name": "python",
   "nbconvert_exporter": "python",
   "pygments_lexer": "ipython3",
   "version": "3.8.5-final"
  },
  "orig_nbformat": 2,
  "kernelspec": {
   "name": "python3",
   "display_name": "Python 3.8.5 64-bit (conda)",
   "metadata": {
    "interpreter": {
     "hash": "b3ba2566441a7c06988d0923437866b63cedc61552a5af99d1f4fb67d367b25f"
    }
   }
  }
 },
 "nbformat": 4,
 "nbformat_minor": 2,
 "cells": [
  {
   "cell_type": "code",
   "execution_count": 205,
   "metadata": {},
   "outputs": [],
   "source": [
    "import pandas as pd\n",
    "import numpy as np\n",
    "import cx_Oracle as cx\n",
    "import csv\n",
    "from pandas import DataFrame\n",
    "\n",
    "df=pd.read_csv('./intflowdb.csv')\n",
    "\n",
    "df['current_dt'] = df['current_dt'].astype(str)"
   ]
  },
  {
   "cell_type": "code",
   "execution_count": 148,
   "metadata": {},
   "outputs": [
    {
     "output_type": "stream",
     "name": "stdout",
     "text": [
      "oracle 접속 성공\n"
     ]
    }
   ],
   "source": [
    "conn = cx.connect(\"hr\", \"hr\", \"localhost:1521/xe\")\n",
    "cursor = conn.cursor()  # 커서 생성\n",
    "print('oracle 접속 성공')"
   ]
  },
  {
   "cell_type": "code",
   "execution_count": 206,
   "metadata": {},
   "outputs": [
    {
     "output_type": "execute_result",
     "data": {
      "text/plain": [
       "0      2021-02-17 11:00\n",
       "1      2021-02-17 11:00\n",
       "2      2021-02-17 11:00\n",
       "3      2021-02-17 11:00\n",
       "4      2021-02-17 11:00\n",
       "             ...       \n",
       "307    2021-02-19 11:00\n",
       "308    2021-02-19 11:00\n",
       "309    2021-02-19 11:00\n",
       "310    2021-02-19 11:00\n",
       "311    2021-02-19 11:00\n",
       "Name: current_dt, Length: 312, dtype: object"
      ]
     },
     "metadata": {},
     "execution_count": 206
    }
   ],
   "source": [
    "#df['current_dt'][df['current_dt'].str.len()==15].str.replace(\" \",\"\")\n",
    "df['current_dt'] =np.where(df['current_dt'].str.len()==15,df['current_dt'].str.replace(\" \",\"0\"),df['current_dt'])\n",
    "df['current_dt']"
   ]
  },
  {
   "cell_type": "code",
   "execution_count": 207,
   "metadata": {},
   "outputs": [
    {
     "output_type": "execute_result",
     "data": {
      "text/plain": [
       "0      202102171100\n",
       "1      202102171100\n",
       "2      202102171100\n",
       "3      202102171100\n",
       "4      202102171100\n",
       "           ...     \n",
       "307    202102191100\n",
       "308    202102191100\n",
       "309    202102191100\n",
       "310    202102191100\n",
       "311    202102191100\n",
       "Name: current_dt, Length: 312, dtype: object"
      ]
     },
     "metadata": {},
     "execution_count": 207
    }
   ],
   "source": [
    "df.current_dt=df.current_dt.str.replace(\":\",\"\")\n",
    "df.current_dt=df.current_dt.str.replace(\"-\",\"\")\n",
    "df.current_dt=df.current_dt.str.replace(\" \",\"\")\n",
    "df['current_dt']"
   ]
  },
  {
   "cell_type": "code",
   "execution_count": 208,
   "metadata": {},
   "outputs": [
    {
     "output_type": "execute_result",
     "data": {
      "text/plain": [
       "0      171100\n",
       "1      171100\n",
       "2      171100\n",
       "3      171100\n",
       "4      171100\n",
       "        ...  \n",
       "307    191100\n",
       "308    191100\n",
       "309    191100\n",
       "310    191100\n",
       "311    191100\n",
       "Name: current_dt, Length: 312, dtype: object"
      ]
     },
     "metadata": {},
     "execution_count": 208
    }
   ],
   "source": [
    "def scc(x):\n",
    "    return x[6:]\n",
    "df['current_dt']=df['current_dt'].apply(scc)\n",
    "df['current_dt']"
   ]
  },
  {
   "cell_type": "code",
   "execution_count": 18,
   "metadata": {},
   "outputs": [
    {
     "output_type": "execute_result",
     "data": {
      "text/plain": [
       "     current_dt  camera_id  object_id  activity  feed  drinking\n",
       "0        171100          1          1        72    36        56\n",
       "1        171100          1          2        85    77        62\n",
       "2        171100          1          3        31    37         5\n",
       "3        171100          1          4         6    99        95\n",
       "4        171100          2          1        23    36        74\n",
       "..          ...        ...        ...       ...   ...       ...\n",
       "307      191100          2          4        85    30         9\n",
       "308      191100          3          1         7    86        70\n",
       "309      191100          3          2        65    41        89\n",
       "310      191100          3          3        88     8        80\n",
       "311      191100          3          4        48    31        71\n",
       "\n",
       "[312 rows x 6 columns]"
      ],
      "text/html": "<div>\n<style scoped>\n    .dataframe tbody tr th:only-of-type {\n        vertical-align: middle;\n    }\n\n    .dataframe tbody tr th {\n        vertical-align: top;\n    }\n\n    .dataframe thead th {\n        text-align: right;\n    }\n</style>\n<table border=\"1\" class=\"dataframe\">\n  <thead>\n    <tr style=\"text-align: right;\">\n      <th></th>\n      <th>current_dt</th>\n      <th>camera_id</th>\n      <th>object_id</th>\n      <th>activity</th>\n      <th>feed</th>\n      <th>drinking</th>\n    </tr>\n  </thead>\n  <tbody>\n    <tr>\n      <th>0</th>\n      <td>171100</td>\n      <td>1</td>\n      <td>1</td>\n      <td>72</td>\n      <td>36</td>\n      <td>56</td>\n    </tr>\n    <tr>\n      <th>1</th>\n      <td>171100</td>\n      <td>1</td>\n      <td>2</td>\n      <td>85</td>\n      <td>77</td>\n      <td>62</td>\n    </tr>\n    <tr>\n      <th>2</th>\n      <td>171100</td>\n      <td>1</td>\n      <td>3</td>\n      <td>31</td>\n      <td>37</td>\n      <td>5</td>\n    </tr>\n    <tr>\n      <th>3</th>\n      <td>171100</td>\n      <td>1</td>\n      <td>4</td>\n      <td>6</td>\n      <td>99</td>\n      <td>95</td>\n    </tr>\n    <tr>\n      <th>4</th>\n      <td>171100</td>\n      <td>2</td>\n      <td>1</td>\n      <td>23</td>\n      <td>36</td>\n      <td>74</td>\n    </tr>\n    <tr>\n      <th>...</th>\n      <td>...</td>\n      <td>...</td>\n      <td>...</td>\n      <td>...</td>\n      <td>...</td>\n      <td>...</td>\n    </tr>\n    <tr>\n      <th>307</th>\n      <td>191100</td>\n      <td>2</td>\n      <td>4</td>\n      <td>85</td>\n      <td>30</td>\n      <td>9</td>\n    </tr>\n    <tr>\n      <th>308</th>\n      <td>191100</td>\n      <td>3</td>\n      <td>1</td>\n      <td>7</td>\n      <td>86</td>\n      <td>70</td>\n    </tr>\n    <tr>\n      <th>309</th>\n      <td>191100</td>\n      <td>3</td>\n      <td>2</td>\n      <td>65</td>\n      <td>41</td>\n      <td>89</td>\n    </tr>\n    <tr>\n      <th>310</th>\n      <td>191100</td>\n      <td>3</td>\n      <td>3</td>\n      <td>88</td>\n      <td>8</td>\n      <td>80</td>\n    </tr>\n    <tr>\n      <th>311</th>\n      <td>191100</td>\n      <td>3</td>\n      <td>4</td>\n      <td>48</td>\n      <td>31</td>\n      <td>71</td>\n    </tr>\n  </tbody>\n</table>\n<p>312 rows × 6 columns</p>\n</div>"
     },
     "metadata": {},
     "execution_count": 18
    }
   ],
   "source": [
    "df['current_dt'] = df['current_dt'].astype(int)\n",
    "df"
   ]
  },
  {
   "cell_type": "code",
   "execution_count": 209,
   "metadata": {},
   "outputs": [],
   "source": [
    "cursor.execute(\"DELETE FROM itf\")"
   ]
  },
  {
   "cell_type": "code",
   "execution_count": 210,
   "metadata": {},
   "outputs": [],
   "source": [
    "def insert(a,b,c,d,e,f):\n",
    "    sql  = f\"insert into itf values({a},{b},{c},{d},{e},{f})\"\n",
    "    cursor.execute(sql)\n",
    "    conn.commit()"
   ]
  },
  {
   "cell_type": "code",
   "execution_count": 211,
   "metadata": {},
   "outputs": [],
   "source": [
    "for i in range(0,312) :\n",
    "    a=df.loc[i][0]\n",
    "    b=df.loc[i][1]\n",
    "    c=df.loc[i][2]\n",
    "    d=df.loc[i][3]\n",
    "    e=df.loc[i][4]\n",
    "    f=df.loc[i][5]\n",
    "    insert(a,b,c,d,e,f)\n"
   ]
  },
  {
   "cell_type": "code",
   "execution_count": null,
   "metadata": {},
   "outputs": [],
   "source": []
  }
 ]
}